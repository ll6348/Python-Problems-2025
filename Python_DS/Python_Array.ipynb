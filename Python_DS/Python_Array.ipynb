{
  "nbformat": 4,
  "nbformat_minor": 0,
  "metadata": {
    "colab": {
      "provenance": []
    },
    "kernelspec": {
      "name": "python3",
      "display_name": "Python 3"
    },
    "language_info": {
      "name": "python"
    }
  },
  "cells": [
    {
      "cell_type": "markdown",
      "source": [
        "# Arrays\n"
      ],
      "metadata": {
        "id": "98mJcnewrUeW"
      }
    },
    {
      "cell_type": "code",
      "execution_count": 1,
      "metadata": {
        "colab": {
          "base_uri": "https://localhost:8080/"
        },
        "id": "aLwSz4j3rRcM",
        "outputId": "ce1ea86a-1be2-49ab-fd58-56c22186efa7"
      },
      "outputs": [
        {
          "output_type": "stream",
          "name": "stdout",
          "text": [
            "array [0] =  1\n",
            "array [1] =  2\n",
            "array [2] =  3\n",
            "array [3] =  4\n",
            "array [4] =  5\n",
            "array [5] =  5\n",
            "array [6] =  6\n",
            "array [7] =  6\n",
            "array [8] =  6\n"
          ]
        }
      ],
      "source": [
        "# 1. Write a Python program to create an array of 5 integers and display the array items.Access individual element through indexes.\n",
        "array = [1,2,3,4,5,5,6,6,6]\n",
        "for i in range(len(array)):\n",
        "    print(f\"array [{i}] = \" ,array[i])\n"
      ]
    },
    {
      "cell_type": "code",
      "source": [
        "# 2. Write a Python program to reverse the order of the items in the array.\n",
        "print(f\"Array in the reverse order: {array[::-1]}\")"
      ],
      "metadata": {
        "colab": {
          "base_uri": "https://localhost:8080/"
        },
        "id": "jXAMjqhTrekj",
        "outputId": "1a3a289e-8366-4fe5-c080-5d66ed1d584f"
      },
      "execution_count": 2,
      "outputs": [
        {
          "output_type": "stream",
          "name": "stdout",
          "text": [
            "Array in the reverse order: [6, 6, 6, 5, 5, 4, 3, 2, 1]\n"
          ]
        }
      ]
    },
    {
      "cell_type": "code",
      "source": [
        "# 3. Write a Python program to get the number of occurrences of a specified element in an array\n",
        "element = 5\n",
        "print(f\"The element {element} occured {array.count(element)} times in the {array}\")"
      ],
      "metadata": {
        "colab": {
          "base_uri": "https://localhost:8080/"
        },
        "id": "BjrXIMRhrl8s",
        "outputId": "68f24cbc-1477-433f-f08b-08dc1c2a3675"
      },
      "execution_count": 3,
      "outputs": [
        {
          "output_type": "stream",
          "name": "stdout",
          "text": [
            "The element 5 occured 2 times in the [1, 2, 3, 4, 5, 5, 6, 6, 6]\n"
          ]
        }
      ]
    },
    {
      "cell_type": "code",
      "source": [
        "# 4. Write a Python program to remove the first occurrence of a specified element from an array.\n",
        "element = 6\n",
        "array.remove(element)\n",
        "print(f\"The array after removing the first occurence of the element {element}: {array}\")"
      ],
      "metadata": {
        "colab": {
          "base_uri": "https://localhost:8080/"
        },
        "id": "c5ekbqwZrpQm",
        "outputId": "f3e83e39-163a-479f-f070-92bc561089ee"
      },
      "execution_count": 4,
      "outputs": [
        {
          "output_type": "stream",
          "name": "stdout",
          "text": [
            "The array after removing the first occurence of the element 6: [1, 2, 3, 4, 5, 5, 6, 6]\n"
          ]
        }
      ]
    },
    {
      "cell_type": "code",
      "source": [],
      "metadata": {
        "id": "-FEzNeHtrrd_"
      },
      "execution_count": null,
      "outputs": []
    }
  ]
}