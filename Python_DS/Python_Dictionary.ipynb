{
  "nbformat": 4,
  "nbformat_minor": 0,
  "metadata": {
    "colab": {
      "provenance": []
    },
    "kernelspec": {
      "name": "python3",
      "display_name": "Python 3"
    },
    "language_info": {
      "name": "python"
    }
  },
  "cells": [
    {
      "cell_type": "code",
      "source": [
        "# Dictionary"
      ],
      "metadata": {
        "id": "PN0iorV9r3Rb"
      },
      "execution_count": 1,
      "outputs": []
    },
    {
      "cell_type": "code",
      "execution_count": 2,
      "metadata": {
        "colab": {
          "base_uri": "https://localhost:8080/"
        },
        "id": "gBuDvHtHrz4a",
        "outputId": "b45668ae-6e8d-4c9f-f87b-ed883b2bf988"
      },
      "outputs": [
        {
          "output_type": "stream",
          "name": "stdout",
          "text": [
            "Dictionary in ascending order {'one': 1, 'two': 2, 'three': 3, 'four': 4}\n",
            "Dictionary in ascending order {'four': 4, 'three': 3, 'two': 2, 'one': 1}\n"
          ]
        }
      ],
      "source": [
        "# 1. Write a Python script to sort (ascending and descending) a dictionary by value.\n",
        "dictionary = {\"two\": 2, \"one\": 1, \"four\": 4, \"three\": 3}\n",
        "# Sort in ascending order\n",
        "print(f\"Dictionary in ascending order {dict(sorted(dictionary.items(), key=lambda item: item[1]))}\")\n",
        "# Sort in descending order\n",
        "print(f\"Dictionary in ascending order {dict(sorted(dictionary.items(), key=lambda item: item[1], reverse= True))}\")"
      ]
    },
    {
      "cell_type": "code",
      "source": [
        "# 2. Write a Python script to add a key to a dictionary.\n",
        "# Sample Dictionary : {0: 10, 1: 20} Expected Result : {0: 10, 1: 20, 2: 30}\n",
        "dictionary = {0: 10, 1: 20}\n",
        "dictionary.setdefault(2,30)\n",
        "print(dictionary)"
      ],
      "metadata": {
        "colab": {
          "base_uri": "https://localhost:8080/"
        },
        "id": "L9e1ZawPsA7M",
        "outputId": "0520b69b-d243-42b4-9c2b-964a59608851"
      },
      "execution_count": 3,
      "outputs": [
        {
          "output_type": "stream",
          "name": "stdout",
          "text": [
            "{0: 10, 1: 20, 2: 30}\n"
          ]
        }
      ]
    },
    {
      "cell_type": "code",
      "source": [
        "# 3. Write a Python script to concatenate following dictionaries to create a new one.\n",
        "# Sample Dictionary : dic1={1:10, 2:20} dic2={3:30, 4:40} dic3={5:50,6:60}\n",
        "# Expected Result : {1: 10, 2: 20, 3: 30, 4: 40, 5: 50, 6: 60}\n",
        "dic1={1:10, 2:20}\n",
        "dic2={3:30, 4:40}\n",
        "dic3={5:50,6:60}\n",
        "dic1.update(dic2)\n",
        "dic1.update(dic3)\n",
        "print(dic1)"
      ],
      "metadata": {
        "colab": {
          "base_uri": "https://localhost:8080/"
        },
        "id": "1TaFbckcsCwZ",
        "outputId": "66155ab2-b77b-403f-e138-99f1a5d0e7d1"
      },
      "execution_count": 4,
      "outputs": [
        {
          "output_type": "stream",
          "name": "stdout",
          "text": [
            "{1: 10, 2: 20, 3: 30, 4: 40, 5: 50, 6: 60}\n"
          ]
        }
      ]
    },
    {
      "cell_type": "code",
      "source": [
        "# Write a Python program to iterate over dictionaries using for loops.\n",
        "for k,v in dic1.items():\n",
        "    print(f\"{k} = {v}\")"
      ],
      "metadata": {
        "colab": {
          "base_uri": "https://localhost:8080/"
        },
        "id": "deZ4PfxNsHWu",
        "outputId": "70d2fd7d-52f7-4c51-eb38-700b4fa35d82"
      },
      "execution_count": 5,
      "outputs": [
        {
          "output_type": "stream",
          "name": "stdout",
          "text": [
            "1 = 10\n",
            "2 = 20\n",
            "3 = 30\n",
            "4 = 40\n",
            "5 = 50\n",
            "6 = 60\n"
          ]
        }
      ]
    },
    {
      "cell_type": "code",
      "source": [
        "# Write a Python script to generate and print a dictionary that contains a number (between 1 and n) in the form (x, x*x).\n",
        "# Sample Dictionary =  (n = 5)  Expected Output : {1: 1, 2: 4, 3: 9, 4: 16, 5: 25}\n",
        "n = 5\n",
        "square_dict = {x: x * x for x in range(1, n + 1)}\n",
        "print(square_dict)"
      ],
      "metadata": {
        "colab": {
          "base_uri": "https://localhost:8080/"
        },
        "id": "ch8Jl3ErsH6H",
        "outputId": "8c67bde4-979c-4fe7-d4fb-c19361d1827a"
      },
      "execution_count": 6,
      "outputs": [
        {
          "output_type": "stream",
          "name": "stdout",
          "text": [
            "{1: 1, 2: 4, 3: 9, 4: 16, 5: 25}\n"
          ]
        }
      ]
    },
    {
      "cell_type": "code",
      "source": [
        "# 6. Write a Python program to remove a key from a dictionary.\n",
        "key_to_remove = 5\n",
        "square_dict.pop(key_to_remove)\n",
        "print(square_dict)"
      ],
      "metadata": {
        "colab": {
          "base_uri": "https://localhost:8080/"
        },
        "id": "NMRliwiRsJ2h",
        "outputId": "a11c59dd-be47-4994-c96b-7da2fe7ae351"
      },
      "execution_count": 7,
      "outputs": [
        {
          "output_type": "stream",
          "name": "stdout",
          "text": [
            "{1: 1, 2: 4, 3: 9, 4: 16}\n"
          ]
        }
      ]
    },
    {
      "cell_type": "code",
      "source": [
        "#7. Write a Python program to print all unique values in a dictionary.\n",
        "#Sample Data : [{\"V\":\"S001\"}, {\"V\": \"S002\"}, {\"VI\": \"S001\"}, {\"VI\": \"S005\"}, {\"VII\":\"S005\"}, {\"V\":\"S009\"},{\"VIII\":\"S007\"}]\n",
        "#Expected Output : Unique Values: {'S005', 'S002', 'S007', 'S001', 'S009'}\n",
        "Sample_Data = [{\"V\":\"S001\"}, {\"V\": \"S002\"}, {\"VI\": \"S001\"}, {\"VI\": \"S005\"}, {\"VII\":\"S005\"}, {\"V\":\"S009\"},{\"VIII\":\"S007\"}]\n",
        "lst = {value for item in Sample_Data for value in item.values()}\n",
        "print(lst)"
      ],
      "metadata": {
        "colab": {
          "base_uri": "https://localhost:8080/"
        },
        "id": "5AcgtrE1sLR_",
        "outputId": "5aedd962-3a6a-4a4f-902b-00b4fcb9fe72"
      },
      "execution_count": 8,
      "outputs": [
        {
          "output_type": "stream",
          "name": "stdout",
          "text": [
            "{'S001', 'S007', 'S005', 'S009', 'S002'}\n"
          ]
        }
      ]
    },
    {
      "cell_type": "code",
      "source": [
        "# 8. Write a Python program to create a dictionary from a string.\n",
        "# Note: Track the count of the letters from the string.\n",
        "# Sample string : 'w3resource' Expected output: {'3': 1, 's': 1, 'r': 2, 'u': 1, 'w': 1, 'c': 1, 'e': 2, 'o': 1}\n",
        "string = \"w3resource\"\n",
        "dict = {}\n",
        "for i in string:\n",
        "    if i not in dict:\n",
        "        dict[i] = 1\n",
        "    else:\n",
        "        dict[i] += 1\n",
        "print(dict)"
      ],
      "metadata": {
        "colab": {
          "base_uri": "https://localhost:8080/"
        },
        "id": "JYUw7k7ysMgc",
        "outputId": "8f2eebc8-be69-4f96-fe11-330d1f8db6b0"
      },
      "execution_count": 9,
      "outputs": [
        {
          "output_type": "stream",
          "name": "stdout",
          "text": [
            "{'w': 1, '3': 1, 'r': 2, 'e': 2, 's': 1, 'o': 1, 'u': 1, 'c': 1}\n"
          ]
        }
      ]
    },
    {
      "cell_type": "code",
      "source": [
        "# 9. Write a Python program to print a dictionary in table format.\n",
        "print(\"---------------\")\n",
        "print(\"| key | Value |\")\n",
        "print(\"---------------\")\n",
        "for k,v in dict.items():\n",
        "    print(f\"|  {k}  |   {v}   |\")\n",
        "    print(\"---------------\")"
      ],
      "metadata": {
        "colab": {
          "base_uri": "https://localhost:8080/"
        },
        "id": "Kjla3qM1sN2Y",
        "outputId": "4a8d4bae-ca88-40ba-95fd-456b7dfc23e3"
      },
      "execution_count": 10,
      "outputs": [
        {
          "output_type": "stream",
          "name": "stdout",
          "text": [
            "---------------\n",
            "| key | Value |\n",
            "---------------\n",
            "|  w  |   1   |\n",
            "---------------\n",
            "|  3  |   1   |\n",
            "---------------\n",
            "|  r  |   2   |\n",
            "---------------\n",
            "|  e  |   2   |\n",
            "---------------\n",
            "|  s  |   1   |\n",
            "---------------\n",
            "|  o  |   1   |\n",
            "---------------\n",
            "|  u  |   1   |\n",
            "---------------\n",
            "|  c  |   1   |\n",
            "---------------\n"
          ]
        }
      ]
    },
    {
      "cell_type": "code",
      "source": [
        "# 10. Write a Python program to count the values associated with key in a dictionary.\n",
        "# Sample data: = [{'id': 1, 'success': True, 'name': 'Lary'}, {'id': 2, 'success': False, 'name': 'Rabi'}, {'id': 3, 'success': True, 'name': 'Alex'}]\n",
        "# Expected result: Count of how many dictionaries have success as True\n",
        "Sample_data = [{'id': 1, 'success': True, 'name': 'Lary'}, {'id': 2, 'success': False, 'name': 'Rabi'}, {'id': 3, 'success': True, 'name': 'Alex'}]\n",
        "count = 0\n",
        "for i in Sample_data:\n",
        "    if i['success'] == True:\n",
        "        count += 1\n",
        "print(count)"
      ],
      "metadata": {
        "colab": {
          "base_uri": "https://localhost:8080/"
        },
        "id": "1rg00s8BsPZa",
        "outputId": "ba0a108b-f13b-4bce-a001-dbef75e9e0a2"
      },
      "execution_count": 11,
      "outputs": [
        {
          "output_type": "stream",
          "name": "stdout",
          "text": [
            "2\n"
          ]
        }
      ]
    },
    {
      "cell_type": "code",
      "source": [
        "# 11. Write a Python program to convert a list into a nested dictionary of keys.\n",
        "array = [1, 2, 3, 4, 5, 5, 6, 6, 6]\n",
        "nested_dict = {array[-1]: {}}\n",
        "for item in (array[::-1]):\n",
        "    nested_dict = {item: nested_dict}\n",
        "print(nested_dict)"
      ],
      "metadata": {
        "colab": {
          "base_uri": "https://localhost:8080/"
        },
        "id": "QrYH6mposREh",
        "outputId": "2289cf10-694e-494e-bb28-9dbb0d60e5ce"
      },
      "execution_count": 14,
      "outputs": [
        {
          "output_type": "stream",
          "name": "stdout",
          "text": [
            "{1: {2: {3: {4: {5: {5: {6: {6: {6: {6: {}}}}}}}}}}}\n"
          ]
        }
      ]
    },
    {
      "cell_type": "code",
      "source": [
        "# 12. Write a Python program to check multiple keys exists in a dictionary.\n",
        "sample_dict = {'id': 1, 'name': 'Alice', 'age': 25, 'city': 'New York'}\n",
        "keys_to_check = ['id', 'name']\n",
        "if all(key in sample_dict for key in keys_to_check):\n",
        "    print(\"All specified keys exist in the dictionary.\")\n",
        "else:\n",
        "    print(\"Some keys are missing.\")"
      ],
      "metadata": {
        "colab": {
          "base_uri": "https://localhost:8080/"
        },
        "id": "R-HgSR4tsTFF",
        "outputId": "83aabef0-2c84-41ff-a73d-4a03efaba2c3"
      },
      "execution_count": 13,
      "outputs": [
        {
          "output_type": "stream",
          "name": "stdout",
          "text": [
            "All specified keys exist in the dictionary.\n"
          ]
        }
      ]
    },
    {
      "cell_type": "code",
      "source": [
        "# 13. Write a Python program to count number of items in a dictionary value that is a list.\n",
        "sample_dict = {\n",
        "    'id': [1, 2, 3],\n",
        "    'name': ['Shriya', 'Varnita', 'Sri'],\n",
        "    'age': [25, 30, 22],\n",
        "    'city': ['AP', 'Telangana', 'Tamil Nadu']\n",
        "}\n",
        "count = 0\n",
        "for k,v in sample_dict.items():\n",
        "    count += len(v)\n",
        "print(count)\n"
      ],
      "metadata": {
        "colab": {
          "base_uri": "https://localhost:8080/"
        },
        "id": "nntuj1L-sY8B",
        "outputId": "62c0ba02-e6c0-499c-9e65-18b12ca67bed"
      },
      "execution_count": 15,
      "outputs": [
        {
          "output_type": "stream",
          "name": "stdout",
          "text": [
            "12\n"
          ]
        }
      ]
    },
    {
      "cell_type": "code",
      "source": [],
      "metadata": {
        "id": "XysN8m1Kste3"
      },
      "execution_count": null,
      "outputs": []
    }
  ]
}