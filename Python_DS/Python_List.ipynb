{
  "nbformat": 4,
  "nbformat_minor": 0,
  "metadata": {
    "colab": {
      "provenance": []
    },
    "kernelspec": {
      "name": "python3",
      "display_name": "Python 3"
    },
    "language_info": {
      "name": "python"
    }
  },
  "cells": [
    {
      "cell_type": "markdown",
      "source": [
        "# List"
      ],
      "metadata": {
        "id": "TCPXE5Qftjwx"
      }
    },
    {
      "cell_type": "code",
      "execution_count": 1,
      "metadata": {
        "colab": {
          "base_uri": "https://localhost:8080/"
        },
        "id": "QDQGvWGStfcS",
        "outputId": "1d8e9ae8-16d3-41a5-9ca2-bdb78d886ff9"
      },
      "outputs": [
        {
          "output_type": "stream",
          "name": "stdout",
          "text": [
            "41\n"
          ]
        }
      ],
      "source": [
        "# 1. Write a Python program to sum all the items in a list.\n",
        "lst = [1,2,3,4,5,6,6,7,7]\n",
        "print(sum(lst))"
      ]
    },
    {
      "cell_type": "code",
      "source": [
        "# 2. Write a Python program to multiplies all the items in a list.\n",
        "mul = 1\n",
        "for i in lst:\n",
        "    mul *= i\n",
        "print(mul)"
      ],
      "metadata": {
        "colab": {
          "base_uri": "https://localhost:8080/"
        },
        "id": "hpOf6eT8tnPN",
        "outputId": "a171490a-67e3-47ba-b8aa-1f39f89f1409"
      },
      "execution_count": 2,
      "outputs": [
        {
          "output_type": "stream",
          "name": "stdout",
          "text": [
            "211680\n"
          ]
        }
      ]
    },
    {
      "cell_type": "code",
      "source": [
        "# 3. Write a Python program to get the smallest number from a list.\n",
        "print(min(lst))"
      ],
      "metadata": {
        "colab": {
          "base_uri": "https://localhost:8080/"
        },
        "id": "cHvxS_ZEtr_Y",
        "outputId": "5b02040c-1a18-4dc5-ee27-fa4b5087f850"
      },
      "execution_count": 3,
      "outputs": [
        {
          "output_type": "stream",
          "name": "stdout",
          "text": [
            "1\n"
          ]
        }
      ]
    },
    {
      "cell_type": "code",
      "source": [
        "# 4. Write a Python program to count the number of strings where the string length is 2 or more and the first and last character are same from a given list of strings.\n",
        "# Sample List : ['abc', 'xyz', 'aba', '1221'] Expected Result : 2\n",
        "sample_list = ['abc', 'xyz', 'aba', '1221']\n",
        "count = 0\n",
        "for i in sample_list:\n",
        "    if len(i) >= 2 and i[0] == i[-1]:\n",
        "        count += 1\n",
        "print(count)"
      ],
      "metadata": {
        "colab": {
          "base_uri": "https://localhost:8080/"
        },
        "id": "OTa4XWrbttBF",
        "outputId": "3e6b3860-3599-45ce-ace5-02b25836479d"
      },
      "execution_count": 4,
      "outputs": [
        {
          "output_type": "stream",
          "name": "stdout",
          "text": [
            "2\n"
          ]
        }
      ]
    },
    {
      "cell_type": "code",
      "source": [
        "# 5. Write a Python program to get a list, sorted in increasing order by the last element in each tuple from a given list of non-empty tuples.\n",
        "# Sample List : [(2, 5), (1, 2), (4, 4), (2, 3), (2, 1)] Expected Result : [(2, 1), (1, 2), (2, 3), (4, 4), (2, 5)]\n",
        "sample_list = [(2, 5), (1, 2), (4, 4), (2, 3), (2, 1)]\n",
        "print(sorted(sample_list, key=lambda x: x[-1]))"
      ],
      "metadata": {
        "colab": {
          "base_uri": "https://localhost:8080/"
        },
        "id": "Ulb0OH5Btuep",
        "outputId": "ffa1ed59-a624-45a7-9fb7-14015eacade7"
      },
      "execution_count": 5,
      "outputs": [
        {
          "output_type": "stream",
          "name": "stdout",
          "text": [
            "[(2, 1), (1, 2), (2, 3), (4, 4), (2, 5)]\n"
          ]
        }
      ]
    },
    {
      "cell_type": "code",
      "source": [
        "# 6. Write a Python program to remove duplicates from a list.\n",
        "print(set(lst))\n",
        "\n",
        "lst1 = []\n",
        "for i in lst:\n",
        "    if i not in lst1:\n",
        "        lst1.append(i)\n",
        "print(lst1)"
      ],
      "metadata": {
        "colab": {
          "base_uri": "https://localhost:8080/"
        },
        "id": "bVKR8AHEtv6I",
        "outputId": "9e4472e1-10f0-4962-85b8-6064725909c3"
      },
      "execution_count": 6,
      "outputs": [
        {
          "output_type": "stream",
          "name": "stdout",
          "text": [
            "{1, 2, 3, 4, 5, 6, 7}\n",
            "[1, 2, 3, 4, 5, 6, 7]\n"
          ]
        }
      ]
    },
    {
      "cell_type": "code",
      "source": [
        "# 7. Write a Python program to clone or copy a list.\n",
        "lst1 = lst.copy()\n",
        "print(lst1)\n",
        "\n",
        "lst2 = []\n",
        "for i in lst:\n",
        "    lst2.append(i)\n",
        "print(lst2)"
      ],
      "metadata": {
        "colab": {
          "base_uri": "https://localhost:8080/"
        },
        "id": "nBUu6tXXtxPs",
        "outputId": "c6e674c4-cf71-42a9-ca04-e17416f62076"
      },
      "execution_count": 8,
      "outputs": [
        {
          "output_type": "stream",
          "name": "stdout",
          "text": [
            "[1, 2, 3, 4, 5, 6, 6, 7, 7]\n",
            "[1, 2, 3, 4, 5, 6, 6, 7, 7]\n"
          ]
        }
      ]
    },
    {
      "cell_type": "code",
      "source": [
        "# 8. Write a Python program to find the list of words that are longer than n from a given list of words.\n",
        "sample_list = ['abc', 'xyz', 'aba', '1221']\n",
        "n = 1\n",
        "lst3 = []\n",
        "for i in sample_list:\n",
        "    if len(i) > 3:\n",
        "        lst3.append(i)\n",
        "print(lst3)"
      ],
      "metadata": {
        "colab": {
          "base_uri": "https://localhost:8080/"
        },
        "id": "Gu6aC2-AtyWh",
        "outputId": "e33bc67f-3933-42b1-b2f6-b7573ee4df43"
      },
      "execution_count": 9,
      "outputs": [
        {
          "output_type": "stream",
          "name": "stdout",
          "text": [
            "['1221']\n"
          ]
        }
      ]
    },
    {
      "cell_type": "code",
      "source": [
        "# 9. Write a Python function that takes two lists and returns True if they have at least one common member.\n",
        "lst4 = [1, 3, 5, 7, 9, 0]\n",
        "lst5 = [1, 3, 6, 8, 4, 6]\n",
        "if any(item in lst4 for item in lst5):\n",
        "    print(True)\n"
      ],
      "metadata": {
        "colab": {
          "base_uri": "https://localhost:8080/"
        },
        "id": "tY8-mNvht_IK",
        "outputId": "dd8f1fa4-5799-437e-c2de-ae7b6e58ce6a"
      },
      "execution_count": 10,
      "outputs": [
        {
          "output_type": "stream",
          "name": "stdout",
          "text": [
            "True\n"
          ]
        }
      ]
    },
    {
      "cell_type": "code",
      "source": [
        "# 10. Write a Python program to print a specified list after removing the 0th, 4th and 5th elements.\n",
        "# Sample List : ['Red', 'Green', 'White', 'Black', 'Pink', 'Yellow'] Expected Output : ['Green', 'White', 'Black']\n",
        "sample_list = ['Red', 'Green', 'White', 'Black', 'Pink', 'Yellow']\n",
        "indices = [0,4,5]\n",
        "print([sample_list[i] for i in range(len(sample_list)) if i not in indices])"
      ],
      "metadata": {
        "colab": {
          "base_uri": "https://localhost:8080/"
        },
        "id": "W-ZUSCM0uAdh",
        "outputId": "fff179b0-659d-43a8-c6e2-83c30abd0688"
      },
      "execution_count": 11,
      "outputs": [
        {
          "output_type": "stream",
          "name": "stdout",
          "text": [
            "['Green', 'White', 'Black']\n"
          ]
        }
      ]
    },
    {
      "cell_type": "code",
      "source": [
        "# 11. Write a Python program to generate all permutations of a list in Python.\n",
        "import itertools\n",
        "lst7 = [1,2,3,4,5,6]\n",
        "print(list(itertools.permutations(lst7,2)))\n",
        "\n",
        "for i in lst7:\n",
        "    for j in lst7:\n",
        "        print([i,j], end = ' ')"
      ],
      "metadata": {
        "colab": {
          "base_uri": "https://localhost:8080/"
        },
        "id": "JgOhzXNbuBq-",
        "outputId": "ca100191-a7e0-404f-9cee-ba1e403e961c"
      },
      "execution_count": 12,
      "outputs": [
        {
          "output_type": "stream",
          "name": "stdout",
          "text": [
            "[(1, 2), (1, 3), (1, 4), (1, 5), (1, 6), (2, 1), (2, 3), (2, 4), (2, 5), (2, 6), (3, 1), (3, 2), (3, 4), (3, 5), (3, 6), (4, 1), (4, 2), (4, 3), (4, 5), (4, 6), (5, 1), (5, 2), (5, 3), (5, 4), (5, 6), (6, 1), (6, 2), (6, 3), (6, 4), (6, 5)]\n",
            "[1, 1] [1, 2] [1, 3] [1, 4] [1, 5] [1, 6] [2, 1] [2, 2] [2, 3] [2, 4] [2, 5] [2, 6] [3, 1] [3, 2] [3, 3] [3, 4] [3, 5] [3, 6] [4, 1] [4, 2] [4, 3] [4, 4] [4, 5] [4, 6] [5, 1] [5, 2] [5, 3] [5, 4] [5, 5] [5, 6] [6, 1] [6, 2] [6, 3] [6, 4] [6, 5] [6, 6] "
          ]
        }
      ]
    },
    {
      "cell_type": "code",
      "source": [
        "# 12. Write a Python program to get the difference between the two lists.\n",
        "lst8 = [1,2,3,4,5,6,7,8,9]\n",
        "lst9 = [4,5,6,8,9]\n",
        "lst10 = []\n",
        "for i in lst8:\n",
        "    if i not in lst9:\n",
        "        lst10.append(i)\n",
        "print(f\"\\n{lst10}\")"
      ],
      "metadata": {
        "colab": {
          "base_uri": "https://localhost:8080/"
        },
        "id": "6R8CFx0CuHlx",
        "outputId": "ca5c33f6-6cde-4c3c-acc2-b0d4aa17ce67"
      },
      "execution_count": 13,
      "outputs": [
        {
          "output_type": "stream",
          "name": "stdout",
          "text": [
            "\n",
            "[1, 2, 3, 7]\n"
          ]
        }
      ]
    },
    {
      "cell_type": "code",
      "source": [
        "# 13. Write a Python program to append a list to the second list.\n",
        "for i in lst9:\n",
        "    lst8.append(i)\n",
        "print(lst8)"
      ],
      "metadata": {
        "colab": {
          "base_uri": "https://localhost:8080/"
        },
        "id": "6yC0M5GnuI8a",
        "outputId": "f97e602c-f05b-4bc4-e25a-68c3b949f84e"
      },
      "execution_count": 14,
      "outputs": [
        {
          "output_type": "stream",
          "name": "stdout",
          "text": [
            "[1, 2, 3, 4, 5, 6, 7, 8, 9, 4, 5, 6, 8, 9]\n"
          ]
        }
      ]
    },
    {
      "cell_type": "code",
      "source": [
        "# 14. Write a python program to check whether two lists are circularly identical.\n",
        "lst11 = [1, 2, 3, 4, 5]\n",
        "lst12 = [2, 3, 4, 5, 1]\n",
        "lst13 = lst11 * 2\n",
        "if str(lst12)[1:-1] in str(lst13)[1:-1]:\n",
        "    print(True)\n",
        "else:\n",
        "    print(\"lists are not circularly identical\")"
      ],
      "metadata": {
        "colab": {
          "base_uri": "https://localhost:8080/"
        },
        "id": "a4cgeG0SuJ_A",
        "outputId": "83d59e4c-f681-4285-a84a-1f0d76c38b5e"
      },
      "execution_count": 15,
      "outputs": [
        {
          "output_type": "stream",
          "name": "stdout",
          "text": [
            "True\n"
          ]
        }
      ]
    },
    {
      "cell_type": "code",
      "source": [
        "# 15. Write a Python program to find common items from two lists.\n",
        "lst14 = []\n",
        "for i in lst8:\n",
        "    if i in lst11:\n",
        "        lst14.append(i)\n",
        "print(list(set(lst14)))\n"
      ],
      "metadata": {
        "colab": {
          "base_uri": "https://localhost:8080/"
        },
        "id": "1czLjm17uLRP",
        "outputId": "6bd7345f-69b4-4b3d-b317-b1a0757f1335"
      },
      "execution_count": 16,
      "outputs": [
        {
          "output_type": "stream",
          "name": "stdout",
          "text": [
            "[1, 2, 3, 4, 5]\n"
          ]
        }
      ]
    },
    {
      "cell_type": "code",
      "source": [
        "# 16. Write a Python program to split a list based on first character of word.\n",
        "lst15 = [\"apple\", \"banana\", \"apricot\", \"blueberry\", \"cherry\", \"avocado\", \"carrot\"]\n",
        "dictionary = {}\n",
        "for i in lst15:\n",
        "    if i[0] not in dictionary:\n",
        "        dictionary[i[0]] = [i]\n",
        "    else:\n",
        "        dictionary[i[0]].append(i)\n",
        "for k,v in dictionary.items():\n",
        "    print(v)"
      ],
      "metadata": {
        "colab": {
          "base_uri": "https://localhost:8080/"
        },
        "id": "W5JTOjEBuMTO",
        "outputId": "f6c94f78-af73-4d2d-8af9-090eab46304b"
      },
      "execution_count": 17,
      "outputs": [
        {
          "output_type": "stream",
          "name": "stdout",
          "text": [
            "['apple', 'apricot', 'avocado']\n",
            "['banana', 'blueberry']\n",
            "['cherry', 'carrot']\n"
          ]
        }
      ]
    },
    {
      "cell_type": "code",
      "source": [
        "# 17. Write a Python program to remove duplicates from a list of lists.\n",
        "# Sample list : [[10, 20], [40], [30, 56, 25], [10, 20], [33], [40]] New List : [[10, 20], [30, 56, 25], [33], [40]]\n",
        "sample_list = [[10, 20], [40], [30, 56, 25], [10, 20], [33], [40]]\n",
        "for i in sorted(sample_list):\n",
        "    if sample_list.count(i) > 1:\n",
        "        sample_list.remove(i)\n",
        "print(sorted(sample_list))"
      ],
      "metadata": {
        "colab": {
          "base_uri": "https://localhost:8080/"
        },
        "id": "TSOtgs_suNmt",
        "outputId": "27f4707e-4d04-416a-ef04-04004424a3c2"
      },
      "execution_count": 18,
      "outputs": [
        {
          "output_type": "stream",
          "name": "stdout",
          "text": [
            "[[10, 20], [30, 56, 25], [33], [40]]\n"
          ]
        }
      ]
    },
    {
      "cell_type": "code",
      "source": [],
      "metadata": {
        "id": "tlRT77akuO0w"
      },
      "execution_count": null,
      "outputs": []
    }
  ]
}