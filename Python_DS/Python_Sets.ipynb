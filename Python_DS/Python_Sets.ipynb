{
  "nbformat": 4,
  "nbformat_minor": 0,
  "metadata": {
    "colab": {
      "provenance": []
    },
    "kernelspec": {
      "name": "python3",
      "display_name": "Python 3"
    },
    "language_info": {
      "name": "python"
    }
  },
  "cells": [
    {
      "cell_type": "markdown",
      "source": [
        "# Sets"
      ],
      "metadata": {
        "id": "HmY1hap1s7ff"
      }
    },
    {
      "cell_type": "code",
      "source": [
        "# 1. Write a Python program to create a set.\n",
        "sets = {'apple', \"orange\", 'banana', 'berry', 'apple', 'banana'}\n",
        "print(sets)"
      ],
      "metadata": {
        "colab": {
          "base_uri": "https://localhost:8080/"
        },
        "id": "N93CntXPs1_X",
        "outputId": "46fea7bf-a2e2-41fe-f97a-5f23ec48b936"
      },
      "execution_count": 1,
      "outputs": [
        {
          "output_type": "stream",
          "name": "stdout",
          "text": [
            "{'orange', 'apple', 'berry', 'banana'}\n"
          ]
        }
      ]
    },
    {
      "cell_type": "code",
      "execution_count": 2,
      "metadata": {
        "colab": {
          "base_uri": "https://localhost:8080/"
        },
        "id": "DS-dctcjsyf-",
        "outputId": "24544f3d-aa58-47bf-c181-31a69754bfa6"
      },
      "outputs": [
        {
          "output_type": "stream",
          "name": "stdout",
          "text": [
            "orange\n",
            "apple\n",
            "berry\n",
            "banana\n",
            "0 = orange\n",
            "1 = apple\n",
            "2 = berry\n",
            "3 = banana\n"
          ]
        }
      ],
      "source": [
        "# 2. Write a Python program to iteration over sets.\n",
        "for i in sets:\n",
        "    print(f\"{i}\")\n",
        "\n",
        "for index, fruit in enumerate(sets):\n",
        "    print(f\"{index} = {fruit}\")"
      ]
    },
    {
      "cell_type": "code",
      "source": [
        "# 3. Write a Python program to add member(s) in a set.\n",
        "sets.add(\"guava\")\n",
        "print(sets)\n"
      ],
      "metadata": {
        "colab": {
          "base_uri": "https://localhost:8080/"
        },
        "id": "vFW8gggdtDL8",
        "outputId": "fbbf8775-4d57-45ed-ef99-325032bff4bb"
      },
      "execution_count": 3,
      "outputs": [
        {
          "output_type": "stream",
          "name": "stdout",
          "text": [
            "{'berry', 'apple', 'guava', 'banana', 'orange'}\n"
          ]
        }
      ]
    },
    {
      "cell_type": "code",
      "source": [
        "# 4. Write a Python program to remove item(s) from set\n",
        "sets.remove(\"guava\")\n",
        "print(sets)"
      ],
      "metadata": {
        "colab": {
          "base_uri": "https://localhost:8080/"
        },
        "id": "_eyru4E_tHpl",
        "outputId": "e7c7b3eb-5b85-4ffa-cb9c-ddebf883105e"
      },
      "execution_count": 4,
      "outputs": [
        {
          "output_type": "stream",
          "name": "stdout",
          "text": [
            "{'berry', 'apple', 'banana', 'orange'}\n"
          ]
        }
      ]
    },
    {
      "cell_type": "code",
      "source": [
        "# 5. Write a Python program to remove an item from a set if it is present in the set.\n",
        "item = 'berry'\n",
        "if item in sets:\n",
        "    sets.remove(item)\n",
        "    print(sets)\n",
        "else:\n",
        "    print(f\"{item} is not in sets\")"
      ],
      "metadata": {
        "colab": {
          "base_uri": "https://localhost:8080/"
        },
        "id": "64xLuPvItI_D",
        "outputId": "2a4aa585-c2b7-4469-c425-c1c8cd89da6b"
      },
      "execution_count": 5,
      "outputs": [
        {
          "output_type": "stream",
          "name": "stdout",
          "text": [
            "{'apple', 'banana', 'orange'}\n"
          ]
        }
      ]
    },
    {
      "cell_type": "code",
      "source": [
        "# 6. Write a Python program to create an intersection of sets.\n",
        "sets1 = {\"tomato\", \"potato\", \"brinjal\", \"apple\", \"banana\"}\n",
        "print(sets.intersection(sets1))"
      ],
      "metadata": {
        "colab": {
          "base_uri": "https://localhost:8080/"
        },
        "id": "PPxLZDRetKcf",
        "outputId": "167d62b2-580d-4c87-f6d5-9ec329564d1f"
      },
      "execution_count": 6,
      "outputs": [
        {
          "output_type": "stream",
          "name": "stdout",
          "text": [
            "{'apple', 'banana'}\n"
          ]
        }
      ]
    },
    {
      "cell_type": "code",
      "source": [
        "# 7. Write a Python program to create a union of sets.\n",
        "print(sets.union(sets1))"
      ],
      "metadata": {
        "colab": {
          "base_uri": "https://localhost:8080/"
        },
        "id": "9NPqpZE8tL4b",
        "outputId": "72ecc796-236a-4a25-f69a-9ca7ffa8fbf8"
      },
      "execution_count": 7,
      "outputs": [
        {
          "output_type": "stream",
          "name": "stdout",
          "text": [
            "{'potato', 'apple', 'brinjal', 'banana', 'orange', 'tomato'}\n"
          ]
        }
      ]
    },
    {
      "cell_type": "code",
      "source": [
        "# 8. Write a Python program to create set difference.\n",
        "print(sets.difference(sets1))\n",
        "print(sets - sets1)"
      ],
      "metadata": {
        "colab": {
          "base_uri": "https://localhost:8080/"
        },
        "id": "-Sugc1ALtNCM",
        "outputId": "828c5849-d10a-47e8-cb60-8a4343a9965b"
      },
      "execution_count": 8,
      "outputs": [
        {
          "output_type": "stream",
          "name": "stdout",
          "text": [
            "{'orange'}\n",
            "{'orange'}\n"
          ]
        }
      ]
    },
    {
      "cell_type": "code",
      "source": [
        "# 9. Write a Python program to create a symmetric difference.\n",
        "print(sets.symmetric_difference(sets1))"
      ],
      "metadata": {
        "colab": {
          "base_uri": "https://localhost:8080/"
        },
        "id": "YPUQh293tOJn",
        "outputId": "821be04f-df70-4a59-fa73-30751fbc6c97"
      },
      "execution_count": 9,
      "outputs": [
        {
          "output_type": "stream",
          "name": "stdout",
          "text": [
            "{'orange', 'potato', 'tomato', 'brinjal'}\n"
          ]
        }
      ]
    },
    {
      "cell_type": "code",
      "source": [
        "# 10. Write a Python program to clear a set.\n",
        "print(sets1.clear())"
      ],
      "metadata": {
        "colab": {
          "base_uri": "https://localhost:8080/"
        },
        "id": "qsiY8gBEtPaS",
        "outputId": "1a9b0910-23de-49b1-e5de-ef319daf554c"
      },
      "execution_count": 10,
      "outputs": [
        {
          "output_type": "stream",
          "name": "stdout",
          "text": [
            "None\n"
          ]
        }
      ]
    },
    {
      "cell_type": "code",
      "source": [
        "# 11. Write a Python program to use of frozensets.\n",
        "# a. Using `frozenset` as a Dictionary Key\n",
        "schedule = {frozenset([\"Monday\", \"Tuesday\"]): \"Workdays\"}\n",
        "print(\"Dictionary with frozenset key:\", schedule)"
      ],
      "metadata": {
        "colab": {
          "base_uri": "https://localhost:8080/"
        },
        "id": "S2AmBzkEtQiP",
        "outputId": "7062ed70-d9bb-4b6a-9905-598b57b5bec9"
      },
      "execution_count": 11,
      "outputs": [
        {
          "output_type": "stream",
          "name": "stdout",
          "text": [
            "Dictionary with frozenset key: {frozenset({'Tuesday', 'Monday'}): 'Workdays'}\n"
          ]
        }
      ]
    },
    {
      "cell_type": "code",
      "source": [
        "# b. Preventing Accidental Modification\n",
        "days = frozenset([\"Monday\", \"Tuesday\", \"Wednesday\"])\n",
        "print(\"Immutable set:\", days)"
      ],
      "metadata": {
        "colab": {
          "base_uri": "https://localhost:8080/"
        },
        "id": "TBYLrQNrtSDd",
        "outputId": "e5552c33-8877-4bd6-ed71-ed4c295bc832"
      },
      "execution_count": 12,
      "outputs": [
        {
          "output_type": "stream",
          "name": "stdout",
          "text": [
            "Immutable set: frozenset({'Wednesday', 'Tuesday', 'Monday'})\n"
          ]
        }
      ]
    },
    {
      "cell_type": "code",
      "source": [
        "# c. Set Operations (Union, Intersection, Difference)\n",
        "set1 = frozenset([1, 2, 3, 4])\n",
        "set2 = frozenset([3, 4, 5, 6])\n",
        "print(\"Union:\", set1 | set2)\n",
        "print(\"Intersection:\", set1 & set2)\n",
        "print(\"Difference:\", set1 - set2)"
      ],
      "metadata": {
        "colab": {
          "base_uri": "https://localhost:8080/"
        },
        "id": "P20LocFYtUJ6",
        "outputId": "235d5ce6-a8b4-4b8e-8ef0-2dc42a3f970d"
      },
      "execution_count": 13,
      "outputs": [
        {
          "output_type": "stream",
          "name": "stdout",
          "text": [
            "Union: frozenset({1, 2, 3, 4, 5, 6})\n",
            "Intersection: frozenset({3, 4})\n",
            "Difference: frozenset({1, 2})\n"
          ]
        }
      ]
    },
    {
      "cell_type": "code",
      "source": [
        "# d. Using `frozenset` in Function Arguments (for Safety)\n",
        "def process_data(data: frozenset):\n",
        "    print(\"Processing:\", data)\n",
        "process_data(frozenset([\"A\", \"B\", \"C\"]))"
      ],
      "metadata": {
        "colab": {
          "base_uri": "https://localhost:8080/"
        },
        "id": "vwXIjM9ztVxC",
        "outputId": "d063589f-0cf9-49e4-d717-5e5433f3cf1c"
      },
      "execution_count": 14,
      "outputs": [
        {
          "output_type": "stream",
          "name": "stdout",
          "text": [
            "Processing: frozenset({'A', 'C', 'B'})\n"
          ]
        }
      ]
    },
    {
      "cell_type": "code",
      "source": [
        "# e. Using `frozenset` in Data Structures\n",
        "nested_set = {frozenset([1, 2, 3]), frozenset([4, 5, 6])}\n",
        "print(\"Set of frozensets:\", nested_set)"
      ],
      "metadata": {
        "colab": {
          "base_uri": "https://localhost:8080/"
        },
        "id": "n36x5Wb0tXI0",
        "outputId": "dee47bf4-ad72-4786-cad1-c82d9acad8a8"
      },
      "execution_count": 15,
      "outputs": [
        {
          "output_type": "stream",
          "name": "stdout",
          "text": [
            "Set of frozensets: {frozenset({1, 2, 3}), frozenset({4, 5, 6})}\n"
          ]
        }
      ]
    },
    {
      "cell_type": "code",
      "source": [
        "# f. Preventing Duplicates in Unordered Data\n",
        "unique_sets = {frozenset([1, 2]), frozenset([2, 1]), frozenset([3, 4])}\n",
        "print(\"Unique frozensets:\", unique_sets)"
      ],
      "metadata": {
        "colab": {
          "base_uri": "https://localhost:8080/"
        },
        "id": "l6bL5F1TtYSI",
        "outputId": "0b77df91-0bf6-489d-92a4-f552d713cdff"
      },
      "execution_count": 16,
      "outputs": [
        {
          "output_type": "stream",
          "name": "stdout",
          "text": [
            "Unique frozensets: {frozenset({3, 4}), frozenset({1, 2})}\n"
          ]
        }
      ]
    },
    {
      "cell_type": "code",
      "source": [
        "# 12. Write a Python program to find maximum and the minimum value in a set.\n",
        "print(max(sets))\n",
        "print(min(sets))"
      ],
      "metadata": {
        "id": "IRXOA5bFtZqC",
        "outputId": "51ab9bc3-b1b6-414a-86a9-2644bc9ad8c7",
        "colab": {
          "base_uri": "https://localhost:8080/"
        }
      },
      "execution_count": 17,
      "outputs": [
        {
          "output_type": "stream",
          "name": "stdout",
          "text": [
            "orange\n",
            "apple\n"
          ]
        }
      ]
    },
    {
      "cell_type": "code",
      "source": [],
      "metadata": {
        "id": "3f54GCj-taws"
      },
      "execution_count": null,
      "outputs": []
    }
  ]
}