{
  "nbformat": 4,
  "nbformat_minor": 0,
  "metadata": {
    "colab": {
      "provenance": []
    },
    "kernelspec": {
      "name": "python3",
      "display_name": "Python 3"
    },
    "language_info": {
      "name": "python"
    }
  },
  "cells": [
    {
      "cell_type": "markdown",
      "source": [
        "## Tuple\n"
      ],
      "metadata": {
        "id": "xNsmjroprvnq"
      }
    },
    {
      "cell_type": "code",
      "execution_count": 1,
      "metadata": {
        "colab": {
          "base_uri": "https://localhost:8080/"
        },
        "id": "5XDxYscfrXnl",
        "outputId": "d2a55f1e-13ef-406d-937f-92b0bc32b5aa"
      },
      "outputs": [
        {
          "output_type": "stream",
          "name": "stdout",
          "text": [
            "(1, 2, 3, 4, 5)\n"
          ]
        }
      ],
      "source": [
        "# 1. Write a Python program to create a tuple.\n",
        "tuples = (1, 2, 3, 4, 5)\n",
        "print(tuples)"
      ]
    },
    {
      "cell_type": "code",
      "source": [
        "# 2. Write a Python program to create a tuple with different data types.\n",
        "tuples = (1, 'ab', 2.05, [1,2,3])\n",
        "print(tuples)"
      ],
      "metadata": {
        "colab": {
          "base_uri": "https://localhost:8080/"
        },
        "id": "7EJA1AjtrlBP",
        "outputId": "20d0ae15-e028-4349-d477-d318878ddacb"
      },
      "execution_count": 2,
      "outputs": [
        {
          "output_type": "stream",
          "name": "stdout",
          "text": [
            "(1, 'ab', 2.05, [1, 2, 3])\n"
          ]
        }
      ]
    },
    {
      "cell_type": "code",
      "source": [
        "# 3. Write a Python program to unpack a tuple in several variables.\n",
        "a, b, c, d = tuples\n",
        "print(a)\n",
        "print(b)\n",
        "print(c)\n",
        "print(d)"
      ],
      "metadata": {
        "colab": {
          "base_uri": "https://localhost:8080/"
        },
        "id": "lOLdU6OCrnF1",
        "outputId": "3f5ce86c-f31a-472b-fd23-2ab58cf11b81"
      },
      "execution_count": 4,
      "outputs": [
        {
          "output_type": "stream",
          "name": "stdout",
          "text": [
            "1\n",
            "ab\n",
            "2.05\n",
            "[1, 2, 3]\n"
          ]
        }
      ]
    },
    {
      "cell_type": "code",
      "source": [
        "# 4. Write a Python program to create the colon of a tuple.\n",
        "from copy import deepcopy\n",
        "tuples1 = deepcopy(tuples)\n",
        "print(tuples1)"
      ],
      "metadata": {
        "colab": {
          "base_uri": "https://localhost:8080/"
        },
        "id": "aU_ljXT0sOqb",
        "outputId": "da1d00c6-ac5e-4556-b532-523c0b23e2b5"
      },
      "execution_count": 7,
      "outputs": [
        {
          "output_type": "stream",
          "name": "stdout",
          "text": [
            "(1, 'ab', 2.05, [1, 2, 3])\n"
          ]
        }
      ]
    },
    {
      "cell_type": "code",
      "source": [
        "# 5. Write a Python program to find the repeated items of a tuple.\n",
        "tuple2 = [ 1, 2, 2, 'ab', 'bc', 'bc', 2.05, 1.05, [1,2], [1,2], [1,2,3] ]\n",
        "lst = []\n",
        "for i in tuple2:\n",
        "  if tuple2.count(i) > 1 and i not in lst:\n",
        "    lst.append(i)\n",
        "print(tuple(lst))"
      ],
      "metadata": {
        "colab": {
          "base_uri": "https://localhost:8080/"
        },
        "id": "xCVmU5wss_Kz",
        "outputId": "54df47e0-ec25-47d4-c1ce-d041e7c87ea7"
      },
      "execution_count": 10,
      "outputs": [
        {
          "output_type": "stream",
          "name": "stdout",
          "text": [
            "(2, 'bc', [1, 2])\n"
          ]
        }
      ]
    },
    {
      "cell_type": "code",
      "source": [
        "# 6. Write a Python program to check whether an element exists within a tuple.\n",
        "element = 'ab'\n",
        "if element in tuple2:\n",
        "  print(f\"The element {element} is in tuple at index {tuple2.index(element)}\")"
      ],
      "metadata": {
        "colab": {
          "base_uri": "https://localhost:8080/"
        },
        "id": "u9Lid6XutvpK",
        "outputId": "5d92a351-88a3-4274-c680-1cc8c6b7af9e"
      },
      "execution_count": 11,
      "outputs": [
        {
          "output_type": "stream",
          "name": "stdout",
          "text": [
            "The element ab is in tuple at index 3\n"
          ]
        }
      ]
    },
    {
      "cell_type": "code",
      "source": [
        "# 7. Write a Python program to convert a list to a tuple.\n",
        "lst = [1, 2, 'an']\n",
        "print(tuple(lst))"
      ],
      "metadata": {
        "colab": {
          "base_uri": "https://localhost:8080/"
        },
        "id": "rLC1j9SHudAd",
        "outputId": "8ee0ff93-d6f6-4f1a-ce93-6a7b43ecd653"
      },
      "execution_count": 12,
      "outputs": [
        {
          "output_type": "stream",
          "name": "stdout",
          "text": [
            "(1, 2, 'an')\n"
          ]
        }
      ]
    },
    {
      "cell_type": "code",
      "source": [
        "# 8. Write a Python program to remove an item from a tuple.\n",
        "lst1 = list(tuple2)\n",
        "element_to_remove = 'ab'\n",
        "if element_to_remove in lst1:\n",
        "  lst1.remove(element_to_remove)\n",
        "print(tuple(lst1))"
      ],
      "metadata": {
        "colab": {
          "base_uri": "https://localhost:8080/"
        },
        "id": "ASI8lFWpup4d",
        "outputId": "047e94a8-aded-4464-9482-9b56007370b5"
      },
      "execution_count": 13,
      "outputs": [
        {
          "output_type": "stream",
          "name": "stdout",
          "text": [
            "(1, 2, 2, 'bc', 'bc', 2.05, 1.05, [1, 2], [1, 2], [1, 2, 3])\n"
          ]
        }
      ]
    },
    {
      "cell_type": "code",
      "source": [
        "# 9. Write a Python program to slice a tuple.\n",
        "print(tuple2[1:11:2])"
      ],
      "metadata": {
        "colab": {
          "base_uri": "https://localhost:8080/"
        },
        "id": "TT-ZsFwXvToG",
        "outputId": "9bd4d316-2052-4217-d5cd-d10c8075c1c8"
      },
      "execution_count": 16,
      "outputs": [
        {
          "output_type": "stream",
          "name": "stdout",
          "text": [
            "[2, 'ab', 'bc', 1.05, [1, 2]]\n"
          ]
        }
      ]
    },
    {
      "cell_type": "code",
      "source": [
        "# 10. Write a Python program to reverse a tuple.\n",
        "print(tuple2[::-1])"
      ],
      "metadata": {
        "colab": {
          "base_uri": "https://localhost:8080/"
        },
        "id": "onO68VDrvhgM",
        "outputId": "d699f0e1-dd15-4dd8-9762-6b3478e97b14"
      },
      "execution_count": 17,
      "outputs": [
        {
          "output_type": "stream",
          "name": "stdout",
          "text": [
            "[[1, 2, 3], [1, 2], [1, 2], 1.05, 2.05, 'bc', 'bc', 'ab', 2, 2, 1]\n"
          ]
        }
      ]
    }
  ]
}